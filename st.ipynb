{
 "cells": [
  {
   "cell_type": "code",
   "execution_count": 22,
   "metadata": {},
   "outputs": [],
   "source": [
    "\n",
    "from sentence_transformers import SentenceTransformer\n",
    "\n",
    "# model = SentenceTransformer('bert-base-nli-mean-tokens')\n",
    "\n",
    "# model = SentenceTransformer('all-MiniLM-L6-v2')\n",
    "\n",
    "model = SentenceTransformer('nli-distilroberta-base-v2')"
   ]
  },
  {
   "cell_type": "code",
   "execution_count": 23,
   "metadata": {},
   "outputs": [],
   "source": [
    "sentences = [\n",
    "    \"Three years later, the coffin was still full of Jello.\",\n",
    "    \"The fish dreamed of escaping the fishbowl and into the toilet where he saw his friend go.\",\n",
    "    \"The person box was packed with jelly many dozens of months later.\",\n",
    "    \"Standing on one's head at job interviews forms a lasting impression.\",\n",
    "    \"It took him a month to finish the meal.\",\n",
    "    \"He found a leprechaun in his walnut shell.\"\n",
    "]"
   ]
  },
  {
   "cell_type": "code",
   "execution_count": 24,
   "metadata": {},
   "outputs": [],
   "source": [
    "sentence_embeddings = model.encode(sentences)"
   ]
  },
  {
   "cell_type": "code",
   "execution_count": 25,
   "metadata": {},
   "outputs": [
    {
     "data": {
      "text/plain": [
       "(6, 768)"
      ]
     },
     "execution_count": 25,
     "metadata": {},
     "output_type": "execute_result"
    }
   ],
   "source": [
    "sentence_embeddings.shape"
   ]
  },
  {
   "cell_type": "code",
   "execution_count": 26,
   "metadata": {},
   "outputs": [
    {
     "data": {
      "text/plain": [
       "array([[-1.25028208e-01,  1.15597703e-01, -4.77579832e-02, ...,\n",
       "         2.05891468e-02, -4.50879961e-01,  2.20459223e-01],\n",
       "       [ 5.87761402e-01, -6.87505722e-01, -2.19015002e-01, ...,\n",
       "        -1.34770203e+00,  1.26304373e-03,  1.12379217e+00],\n",
       "       [ 3.85604233e-01,  2.92195499e-01,  4.05890234e-02, ...,\n",
       "        -8.30300272e-01, -6.34803116e-01,  7.23231077e-01],\n",
       "       [ 5.04944742e-01,  4.27564293e-01,  3.34332526e-01, ...,\n",
       "        -6.08245194e-01,  9.58820581e-02, -4.60678749e-02],\n",
       "       [ 2.10133433e-01, -1.61997959e-01,  2.09570929e-01, ...,\n",
       "        -8.38233888e-01,  7.10887849e-01,  5.72998464e-01],\n",
       "       [-1.00651994e-01, -8.22317243e-01, -6.03609443e-01, ...,\n",
       "         5.53670466e-01, -1.82688415e-01,  9.59426105e-01]], dtype=float32)"
      ]
     },
     "execution_count": 26,
     "metadata": {},
     "output_type": "execute_result"
    }
   ],
   "source": [
    "sentence_embeddings"
   ]
  },
  {
   "cell_type": "code",
   "execution_count": 27,
   "metadata": {},
   "outputs": [],
   "source": [
    "from sklearn.metrics.pairwise import cosine_similarity"
   ]
  },
  {
   "cell_type": "code",
   "execution_count": 28,
   "metadata": {},
   "outputs": [
    {
     "data": {
      "text/plain": [
       "array([[0.5337436]], dtype=float32)"
      ]
     },
     "execution_count": 28,
     "metadata": {},
     "output_type": "execute_result"
    }
   ],
   "source": [
    "cosine_similarity(\n",
    "    [sentence_embeddings[0]],\n",
    "    [sentence_embeddings[2]]\n",
    ")"
   ]
  },
  {
   "cell_type": "code",
   "execution_count": 29,
   "metadata": {},
   "outputs": [
    {
     "name": "stdout",
     "output_type": "stream",
     "text": [
      "Train: 2300\n",
      "Valid: 300\n",
      "Test: 400\n",
      "4600\n"
     ]
    },
    {
     "data": {
      "text/html": [
       "<div>\n",
       "<style scoped>\n",
       "    .dataframe tbody tr th:only-of-type {\n",
       "        vertical-align: middle;\n",
       "    }\n",
       "\n",
       "    .dataframe tbody tr th {\n",
       "        vertical-align: top;\n",
       "    }\n",
       "\n",
       "    .dataframe thead th {\n",
       "        text-align: right;\n",
       "    }\n",
       "</style>\n",
       "<table border=\"1\" class=\"dataframe\">\n",
       "  <thead>\n",
       "    <tr style=\"text-align: right;\">\n",
       "      <th></th>\n",
       "      <th>text1</th>\n",
       "      <th>text2</th>\n",
       "    </tr>\n",
       "  </thead>\n",
       "  <tbody>\n",
       "    <tr>\n",
       "      <th>0</th>\n",
       "      <td>broadband challenges tv viewing the number of ...</td>\n",
       "      <td>gardener wins double in glasgow britain s jaso...</td>\n",
       "    </tr>\n",
       "    <tr>\n",
       "      <th>1</th>\n",
       "      <td>rap boss arrested over drug find rap mogul mar...</td>\n",
       "      <td>amnesty chief laments war failure the lack of ...</td>\n",
       "    </tr>\n",
       "    <tr>\n",
       "      <th>2</th>\n",
       "      <td>player burn-out worries robinson england coach...</td>\n",
       "      <td>hanks greeted at wintry premiere hollywood sta...</td>\n",
       "    </tr>\n",
       "    <tr>\n",
       "      <th>3</th>\n",
       "      <td>hearts of oak 3-2 cotonsport hearts of oak set...</td>\n",
       "      <td>redford s vision of sundance despite sporting ...</td>\n",
       "    </tr>\n",
       "    <tr>\n",
       "      <th>4</th>\n",
       "      <td>sir paul rocks super bowl crowds sir paul mcca...</td>\n",
       "      <td>mauresmo opens with victory in la amelie maure...</td>\n",
       "    </tr>\n",
       "    <tr>\n",
       "      <th>5</th>\n",
       "      <td>india to deport bollywood actress india has or...</td>\n",
       "      <td>fosters buys stake in winemaker australian bre...</td>\n",
       "    </tr>\n",
       "    <tr>\n",
       "      <th>6</th>\n",
       "      <td>mutant book wins guardian prize a book about t...</td>\n",
       "      <td>jp morgan admits us slavery links thousands of...</td>\n",
       "    </tr>\n",
       "    <tr>\n",
       "      <th>7</th>\n",
       "      <td>aids and climate top davos agenda climate chan...</td>\n",
       "      <td>howl helps boost japan s cinemas japan s box o...</td>\n",
       "    </tr>\n",
       "    <tr>\n",
       "      <th>8</th>\n",
       "      <td>kennedy predicts bigger turnout voters   pent ...</td>\n",
       "      <td>ocean s twelve raids box office ocean s twelve...</td>\n",
       "    </tr>\n",
       "    <tr>\n",
       "      <th>9</th>\n",
       "      <td>carry on star patsy rowlands dies actress pats...</td>\n",
       "      <td>uk broadband gets speed injection broadband s ...</td>\n",
       "    </tr>\n",
       "  </tbody>\n",
       "</table>\n",
       "</div>"
      ],
      "text/plain": [
       "                                               text1  \\\n",
       "0  broadband challenges tv viewing the number of ...   \n",
       "1  rap boss arrested over drug find rap mogul mar...   \n",
       "2  player burn-out worries robinson england coach...   \n",
       "3  hearts of oak 3-2 cotonsport hearts of oak set...   \n",
       "4  sir paul rocks super bowl crowds sir paul mcca...   \n",
       "5  india to deport bollywood actress india has or...   \n",
       "6  mutant book wins guardian prize a book about t...   \n",
       "7  aids and climate top davos agenda climate chan...   \n",
       "8  kennedy predicts bigger turnout voters   pent ...   \n",
       "9  carry on star patsy rowlands dies actress pats...   \n",
       "\n",
       "                                               text2  \n",
       "0  gardener wins double in glasgow britain s jaso...  \n",
       "1  amnesty chief laments war failure the lack of ...  \n",
       "2  hanks greeted at wintry premiere hollywood sta...  \n",
       "3  redford s vision of sundance despite sporting ...  \n",
       "4  mauresmo opens with victory in la amelie maure...  \n",
       "5  fosters buys stake in winemaker australian bre...  \n",
       "6  jp morgan admits us slavery links thousands of...  \n",
       "7  howl helps boost japan s cinemas japan s box o...  \n",
       "8  ocean s twelve raids box office ocean s twelve...  \n",
       "9  uk broadband gets speed injection broadband s ...  "
      ]
     },
     "execution_count": 29,
     "metadata": {},
     "output_type": "execute_result"
    }
   ],
   "source": [
    "import pandas as pd\n",
    "from sklearn.model_selection import train_test_split\n",
    "# Load the original train.csv file\n",
    "data = pd.read_csv('Precily_Text_Similarity.csv')\n",
    "\n",
    "train_df = pd.read_csv('Precily_Text_Similarity.csv')[:2300]\n",
    "valid_df = pd.read_csv('Precily_Text_Similarity.csv')[2300:2600]\n",
    "test_df = pd.read_csv ('Precily_Text_Similarity.csv')[2600:3000]\n",
    "print('Train: '+ str(len(train_df)))\n",
    "print('Valid: '+ str(len(valid_df)))\n",
    "print('Test: '+ str(len(test_df)))\n",
    "\n",
    "print(train_df.size)\n",
    "train_df.head(10)"
   ]
  },
  {
   "cell_type": "code",
   "execution_count": 30,
   "metadata": {},
   "outputs": [
    {
     "data": {
      "text/html": [
       "<div>\n",
       "<style scoped>\n",
       "    .dataframe tbody tr th:only-of-type {\n",
       "        vertical-align: middle;\n",
       "    }\n",
       "\n",
       "    .dataframe tbody tr th {\n",
       "        vertical-align: top;\n",
       "    }\n",
       "\n",
       "    .dataframe thead th {\n",
       "        text-align: right;\n",
       "    }\n",
       "</style>\n",
       "<table border=\"1\" class=\"dataframe\">\n",
       "  <thead>\n",
       "    <tr style=\"text-align: right;\">\n",
       "      <th></th>\n",
       "      <th>text1</th>\n",
       "      <th>text2</th>\n",
       "    </tr>\n",
       "  </thead>\n",
       "  <tbody>\n",
       "    <tr>\n",
       "      <th>0</th>\n",
       "      <td>broadband challenges tv viewing the number of ...</td>\n",
       "      <td>gardener wins double in glasgow britain s jaso...</td>\n",
       "    </tr>\n",
       "    <tr>\n",
       "      <th>1</th>\n",
       "      <td>rap boss arrested over drug find rap mogul mar...</td>\n",
       "      <td>amnesty chief laments war failure the lack of ...</td>\n",
       "    </tr>\n",
       "    <tr>\n",
       "      <th>2</th>\n",
       "      <td>player burn-out worries robinson england coach...</td>\n",
       "      <td>hanks greeted at wintry premiere hollywood sta...</td>\n",
       "    </tr>\n",
       "    <tr>\n",
       "      <th>3</th>\n",
       "      <td>hearts of oak 3-2 cotonsport hearts of oak set...</td>\n",
       "      <td>redford s vision of sundance despite sporting ...</td>\n",
       "    </tr>\n",
       "    <tr>\n",
       "      <th>4</th>\n",
       "      <td>sir paul rocks super bowl crowds sir paul mcca...</td>\n",
       "      <td>mauresmo opens with victory in la amelie maure...</td>\n",
       "    </tr>\n",
       "  </tbody>\n",
       "</table>\n",
       "</div>"
      ],
      "text/plain": [
       "                                               text1  \\\n",
       "0  broadband challenges tv viewing the number of ...   \n",
       "1  rap boss arrested over drug find rap mogul mar...   \n",
       "2  player burn-out worries robinson england coach...   \n",
       "3  hearts of oak 3-2 cotonsport hearts of oak set...   \n",
       "4  sir paul rocks super bowl crowds sir paul mcca...   \n",
       "\n",
       "                                               text2  \n",
       "0  gardener wins double in glasgow britain s jaso...  \n",
       "1  amnesty chief laments war failure the lack of ...  \n",
       "2  hanks greeted at wintry premiere hollywood sta...  \n",
       "3  redford s vision of sundance despite sporting ...  \n",
       "4  mauresmo opens with victory in la amelie maure...  "
      ]
     },
     "execution_count": 30,
     "metadata": {},
     "output_type": "execute_result"
    }
   ],
   "source": [
    "data.head()"
   ]
  },
  {
   "cell_type": "code",
   "execution_count": 31,
   "metadata": {},
   "outputs": [
    {
     "name": "stdout",
     "output_type": "stream",
     "text": [
      "4600\n"
     ]
    },
    {
     "data": {
      "text/html": [
       "<div>\n",
       "<style scoped>\n",
       "    .dataframe tbody tr th:only-of-type {\n",
       "        vertical-align: middle;\n",
       "    }\n",
       "\n",
       "    .dataframe tbody tr th {\n",
       "        vertical-align: top;\n",
       "    }\n",
       "\n",
       "    .dataframe thead th {\n",
       "        text-align: right;\n",
       "    }\n",
       "</style>\n",
       "<table border=\"1\" class=\"dataframe\">\n",
       "  <thead>\n",
       "    <tr style=\"text-align: right;\">\n",
       "      <th></th>\n",
       "      <th>text1</th>\n",
       "      <th>text2</th>\n",
       "    </tr>\n",
       "  </thead>\n",
       "  <tbody>\n",
       "    <tr>\n",
       "      <th>0</th>\n",
       "      <td>broadband challenges tv viewing the number of ...</td>\n",
       "      <td>gardener wins double in glasgow britain s jaso...</td>\n",
       "    </tr>\n",
       "    <tr>\n",
       "      <th>1</th>\n",
       "      <td>rap boss arrested over drug find rap mogul mar...</td>\n",
       "      <td>amnesty chief laments war failure the lack of ...</td>\n",
       "    </tr>\n",
       "    <tr>\n",
       "      <th>2</th>\n",
       "      <td>player burn-out worries robinson england coach...</td>\n",
       "      <td>hanks greeted at wintry premiere hollywood sta...</td>\n",
       "    </tr>\n",
       "    <tr>\n",
       "      <th>3</th>\n",
       "      <td>hearts of oak 3-2 cotonsport hearts of oak set...</td>\n",
       "      <td>redford s vision of sundance despite sporting ...</td>\n",
       "    </tr>\n",
       "    <tr>\n",
       "      <th>4</th>\n",
       "      <td>sir paul rocks super bowl crowds sir paul mcca...</td>\n",
       "      <td>mauresmo opens with victory in la amelie maure...</td>\n",
       "    </tr>\n",
       "  </tbody>\n",
       "</table>\n",
       "</div>"
      ],
      "text/plain": [
       "                                               text1  \\\n",
       "0  broadband challenges tv viewing the number of ...   \n",
       "1  rap boss arrested over drug find rap mogul mar...   \n",
       "2  player burn-out worries robinson england coach...   \n",
       "3  hearts of oak 3-2 cotonsport hearts of oak set...   \n",
       "4  sir paul rocks super bowl crowds sir paul mcca...   \n",
       "\n",
       "                                               text2  \n",
       "0  gardener wins double in glasgow britain s jaso...  \n",
       "1  amnesty chief laments war failure the lack of ...  \n",
       "2  hanks greeted at wintry premiere hollywood sta...  \n",
       "3  redford s vision of sundance despite sporting ...  \n",
       "4  mauresmo opens with victory in la amelie maure...  "
      ]
     },
     "execution_count": 31,
     "metadata": {},
     "output_type": "execute_result"
    }
   ],
   "source": [
    "# Turnig all text to lowercase\n",
    "train_df['text1'] = train_df['text1'].str.lower()\n",
    "valid_df['text1'] = valid_df['text1'].str.lower()\n",
    "test_df['text1'] = test_df['text1'].str.lower()\n",
    "print(train_df.size)\n",
    "train_df.head()"
   ]
  },
  {
   "cell_type": "code",
   "execution_count": 32,
   "metadata": {},
   "outputs": [
    {
     "name": "stdout",
     "output_type": "stream",
     "text": [
      "4600\n"
     ]
    }
   ],
   "source": [
    "train_df['text2'] = train_df['text2'].str.lower()\n",
    "valid_df['text2'] = valid_df['text2'].str.lower()\n",
    "test_df['text2'] = test_df['text2'].str.lower()\n",
    "print(train_df.size)"
   ]
  },
  {
   "cell_type": "code",
   "execution_count": 33,
   "metadata": {},
   "outputs": [
    {
     "name": "stdout",
     "output_type": "stream",
     "text": [
      "4600\n"
     ]
    },
    {
     "data": {
      "text/html": [
       "<div>\n",
       "<style scoped>\n",
       "    .dataframe tbody tr th:only-of-type {\n",
       "        vertical-align: middle;\n",
       "    }\n",
       "\n",
       "    .dataframe tbody tr th {\n",
       "        vertical-align: top;\n",
       "    }\n",
       "\n",
       "    .dataframe thead th {\n",
       "        text-align: right;\n",
       "    }\n",
       "</style>\n",
       "<table border=\"1\" class=\"dataframe\">\n",
       "  <thead>\n",
       "    <tr style=\"text-align: right;\">\n",
       "      <th></th>\n",
       "      <th>text1</th>\n",
       "      <th>text2</th>\n",
       "    </tr>\n",
       "  </thead>\n",
       "  <tbody>\n",
       "    <tr>\n",
       "      <th>0</th>\n",
       "      <td>broadband challenges tv viewing number europea...</td>\n",
       "      <td>gardener wins double glasgow britain jason gar...</td>\n",
       "    </tr>\n",
       "    <tr>\n",
       "      <th>1</th>\n",
       "      <td>rap boss arrested drug find rap mogul marion s...</td>\n",
       "      <td>amnesty chief laments war failure lack public ...</td>\n",
       "    </tr>\n",
       "    <tr>\n",
       "      <th>2</th>\n",
       "      <td>player burn-out worries robinson england coach...</td>\n",
       "      <td>hanks greeted wintry premiere hollywood star t...</td>\n",
       "    </tr>\n",
       "    <tr>\n",
       "      <th>3</th>\n",
       "      <td>hearts oak 3-2 cotonsport hearts oak set ghana...</td>\n",
       "      <td>redford vision sundance despite sporting cordu...</td>\n",
       "    </tr>\n",
       "    <tr>\n",
       "      <th>4</th>\n",
       "      <td>sir paul rocks super bowl crowds sir paul mcca...</td>\n",
       "      <td>mauresmo opens victory la amelie mauresmo mari...</td>\n",
       "    </tr>\n",
       "  </tbody>\n",
       "</table>\n",
       "</div>"
      ],
      "text/plain": [
       "                                               text1  \\\n",
       "0  broadband challenges tv viewing number europea...   \n",
       "1  rap boss arrested drug find rap mogul marion s...   \n",
       "2  player burn-out worries robinson england coach...   \n",
       "3  hearts oak 3-2 cotonsport hearts oak set ghana...   \n",
       "4  sir paul rocks super bowl crowds sir paul mcca...   \n",
       "\n",
       "                                               text2  \n",
       "0  gardener wins double glasgow britain jason gar...  \n",
       "1  amnesty chief laments war failure lack public ...  \n",
       "2  hanks greeted wintry premiere hollywood star t...  \n",
       "3  redford vision sundance despite sporting cordu...  \n",
       "4  mauresmo opens victory la amelie mauresmo mari...  "
      ]
     },
     "execution_count": 33,
     "metadata": {},
     "output_type": "execute_result"
    }
   ],
   "source": [
    "# Removing stopwords\n",
    "\n",
    "# import nltk\n",
    "# stop=nltk.download('stopwords')\n",
    "from nltk.corpus import stopwords\n",
    "\n",
    "stop = stopwords.words('english')\n",
    "\n",
    "\n",
    "train_df['text1'] = train_df['text1'].apply(lambda x: ' '.join([word for word in x.split() if word not in (stop)]))\n",
    "valid_df['text1'] = valid_df['text1'].apply(lambda x: ' '.join([word for word in x.split() if word not in (stop)]))\n",
    "test_df['text1'] = test_df['text1'].apply(lambda x: ' '.join([word for word in x.split() if word not in (stop)]))\n",
    "\n",
    "train_df['text2'] = train_df['text2'].apply(lambda x: ' '.join([word for word in x.split() if word not in (stop)]))\n",
    "valid_df['text2'] = valid_df['text2'].apply(lambda x: ' '.join([word for word in x.split() if word not in (stop)]))\n",
    "test_df['text2'] = test_df['text2'].apply(lambda x: ' '.join([word for word in x.split() if word not in (stop)]))\n",
    "print(train_df.size)\n",
    "train_df.head()"
   ]
  },
  {
   "cell_type": "code",
   "execution_count": 34,
   "metadata": {},
   "outputs": [
    {
     "name": "stdout",
     "output_type": "stream",
     "text": [
      "4600\n"
     ]
    }
   ],
   "source": [
    "# Save the train and test sets as separate CSV files\n",
    "train_df.to_csv('train_split.csv', index=False)\n",
    "test_df.to_csv('test_split.csv', index=False)\n",
    "valid_df.to_csv('valid_split.csv', index=False)\n",
    "print(train_df.size)"
   ]
  },
  {
   "cell_type": "code",
   "execution_count": 35,
   "metadata": {},
   "outputs": [],
   "source": [
    "from sentence_transformers import  util"
   ]
  },
  {
   "cell_type": "code",
   "execution_count": 36,
   "metadata": {},
   "outputs": [],
   "source": [
    "import numpy as np"
   ]
  },
  {
   "cell_type": "code",
   "execution_count": 37,
   "metadata": {},
   "outputs": [
    {
     "data": {
      "text/plain": [
       "'rap boss arrested drug find rap mogul marion suge knight arrested violating parole allegedly found marijuana. arrested barstow california saturday following alleged traffic offence. expected transferred state prison decision made whether released. mr knight founder death row records served 10-month jail term 2004 punching man parole assault conviction. police said mr knight stopped saturday performing illegal u-turn search car allegedly found marijuana. also accused insurance. 18-year-old woman car arrested providing false information fake id card. later released. second alleged violation previously served half nine-year sentence breaking terms parole. mr knight 39 jailed october 1996 following involvement fight rival gang hours rapper tupac shakur killed las vegas drive-by shooting. driving shakur car time shot head. time probation assaulting two musicians. mr knight former bodyguard set death row records early 1990s shakur dr dre among protegees. label always dogged allegations supports gang culture fuels east west coast rap rivalry.'"
      ]
     },
     "execution_count": 37,
     "metadata": {},
     "output_type": "execute_result"
    }
   ],
   "source": [
    "train_df['text1'][1]"
   ]
  },
  {
   "cell_type": "code",
   "execution_count": 38,
   "metadata": {},
   "outputs": [
    {
     "name": "stdout",
     "output_type": "stream",
     "text": [
      "player burn-out worries robinson england coach andy robinson says english rugby act prevent injury destroying players careers. without host big names six nations intensity professional rugby union hits players. injuries part sport look amount injuries occur english season robinson told bbc sport. think players probably going three four years taken careers. robinson missing entire midfield six nations likes jonny wilkinson mike tindall greenwood injured. rugby union become far physically demanding since game went professional nearly 10 years ago. result three major stakeholders english rugby launched injury audit find players coping. audit jointly funded professional rugby players association rugby football union premier rugby. far robinson concerned findings must ignored. think injury audit coming march got great information think everybody english game got look said. situation going get worse better think rugby whole got look this.\n",
      "hanks greeted wintry premiere hollywood star tom hanks london leicester square uk premiere polar express. west end landmark turned festive landscape complete snow carol singers celebrate arrival animated film. leicester square like never seen said hanks plays five roles movie. polar express based children book tells story young boy journey meet santa claus. 48-year-old actor crossed three-metre high bridge built square said almost impossible get across . hundreds fans greeted star wearing santa hats mince pies offer. hanks said new film elegant message . christmas special time year get put added two-time academy award winner. believe spirit christmas think embodied santa claus said. polar express uses technology similar used lord rings bring gollum life. performance capture technique enables hanks play number roles including eight-year-old boy centre story father christmas. directed robert zemeckis previously worked hanks forrest gump castaway.\n"
     ]
    },
    {
     "data": {
      "text/plain": [
       "tensor([[0.0725]])"
      ]
     },
     "execution_count": 38,
     "metadata": {},
     "output_type": "execute_result"
    }
   ],
   "source": [
    "our_sentence = train_df['text1'][0]\n",
    "print(train_df['text1'][2])\n",
    "\n",
    "sentences=train_df['text2'][0]\n",
    "print(train_df['text2'][2])\n",
    "# lets embed our sentence\n",
    "my_embedding = model.encode(our_sentence)\n",
    "\n",
    "# lets embed the corpus\n",
    "embeddings = model.encode(sentences)\n",
    "cos_sim = util.cos_sim(my_embedding, embeddings)\n",
    "# arr=np.array(cos_sim[0][0])\n",
    "cos_sim"
   ]
  },
  {
   "cell_type": "code",
   "execution_count": 39,
   "metadata": {},
   "outputs": [
    {
     "data": {
      "text/plain": [
       "tensor(0.0725)"
      ]
     },
     "execution_count": 39,
     "metadata": {},
     "output_type": "execute_result"
    }
   ],
   "source": [
    "cos_sim[0][0]"
   ]
  },
  {
   "cell_type": "code",
   "execution_count": 40,
   "metadata": {},
   "outputs": [
    {
     "data": {
      "text/plain": [
       "array([], dtype=float64)"
      ]
     },
     "execution_count": 40,
     "metadata": {},
     "output_type": "execute_result"
    }
   ],
   "source": [
    "arr=np.array([])\n",
    "\n",
    "arr"
   ]
  },
  {
   "cell_type": "code",
   "execution_count": 41,
   "metadata": {},
   "outputs": [],
   "source": [
    "\n",
    "for i in range(0,len(train_df)):\n",
    "    our_sentence = train_df['text1'][i]\n",
    "    sentences=train_df['text2'][i]\n",
    "    # lets embed our sentence\n",
    "    my_embedding = model.encode(our_sentence)\n",
    "\n",
    "    # lets embed the corpus\n",
    "    embeddings = model.encode(sentences)\n",
    "    cos_sim = util.cos_sim(my_embedding, embeddings)\n",
    "    arr=np.append(arr,cos_sim[0][0])\n"
   ]
  },
  {
   "cell_type": "code",
   "execution_count": 42,
   "metadata": {},
   "outputs": [
    {
     "data": {
      "text/plain": [
       "array([0.19094315, 0.28409675, 0.32717323, 0.19726649, 0.13692302,\n",
       "       0.16167167, 0.30179334, 0.47565043, 0.40586537, 0.21648917,\n",
       "       0.25958186, 0.24843773, 0.37900972, 0.15826276, 0.18959713,\n",
       "       0.08808461, 0.49945635, 0.19901776, 0.25543529, 0.15370959,\n",
       "       0.40550828, 0.15531385, 0.36470219, 0.31945211, 0.08248959,\n",
       "       0.46749586, 0.40114468, 0.20808339, 0.27681464, 0.17962904])"
      ]
     },
     "execution_count": 42,
     "metadata": {},
     "output_type": "execute_result"
    }
   ],
   "source": [
    "arr[30:60]"
   ]
  },
  {
   "cell_type": "code",
   "execution_count": 43,
   "metadata": {},
   "outputs": [
    {
     "data": {
      "text/plain": [
       "2300"
      ]
     },
     "execution_count": 43,
     "metadata": {},
     "output_type": "execute_result"
    }
   ],
   "source": [
    "arr.size"
   ]
  },
  {
   "cell_type": "code",
   "execution_count": 44,
   "metadata": {},
   "outputs": [],
   "source": [
    "arr1=np.array([])"
   ]
  },
  {
   "cell_type": "code",
   "execution_count": 45,
   "metadata": {},
   "outputs": [],
   "source": [
    "\n",
    "for i in range(2600,2600+len(test_df)):\n",
    "    our_sentence = test_df['text1'][i]\n",
    "    sentences=test_df['text2'][i]\n",
    "    # lets embed our sentence\n",
    "    my_embedding = model.encode(our_sentence)\n",
    "\n",
    "    # lets embed the corpus\n",
    "    embeddings = model.encode(sentences)\n",
    "    cos_sim = util.cos_sim(my_embedding, embeddings)\n",
    "    arr1=np.append(arr1,cos_sim[0][0])"
   ]
  },
  {
   "cell_type": "code",
   "execution_count": 46,
   "metadata": {},
   "outputs": [
    {
     "data": {
      "text/plain": [
       "array([0.20839438, 0.13068968, 0.10042529, 0.20087135, 0.22980574,\n",
       "       0.26248324, 0.10625503, 0.23094285, 0.22616258, 0.56926095,\n",
       "       0.3363871 , 0.04895781, 0.48697948, 0.3257432 , 0.22288868,\n",
       "       0.26180732, 0.19719791, 0.449898  , 0.46299189, 0.05386141])"
      ]
     },
     "execution_count": 46,
     "metadata": {},
     "output_type": "execute_result"
    }
   ],
   "source": [
    "arr1[:20]"
   ]
  },
  {
   "cell_type": "code",
   "execution_count": 47,
   "metadata": {},
   "outputs": [
    {
     "data": {
      "text/plain": [
       "400"
      ]
     },
     "execution_count": 47,
     "metadata": {},
     "output_type": "execute_result"
    }
   ],
   "source": [
    "arr1.size\n"
   ]
  },
  {
   "cell_type": "code",
   "execution_count": 48,
   "metadata": {},
   "outputs": [],
   "source": [
    "arr2=np.array([])"
   ]
  },
  {
   "cell_type": "code",
   "execution_count": 49,
   "metadata": {},
   "outputs": [],
   "source": [
    "for i in range(2300,2300+len(valid_df)):\n",
    "    our_sentence = valid_df['text1'][i]\n",
    "    sentences=valid_df['text2'][i]\n",
    "    # lets embed our sentence\n",
    "    my_embedding = model.encode(our_sentence)\n",
    "\n",
    "    # lets embed the corpus\n",
    "    embeddings = model.encode(sentences)\n",
    "    cos_sim = util.cos_sim(my_embedding, embeddings)\n",
    "    arr2=np.append(arr2,cos_sim[0][0])"
   ]
  },
  {
   "cell_type": "code",
   "execution_count": 15,
   "metadata": {},
   "outputs": [
    {
     "data": {
      "text/plain": [
       "0"
      ]
     },
     "execution_count": 15,
     "metadata": {},
     "output_type": "execute_result"
    }
   ],
   "source": [
    "arr2.size"
   ]
  },
  {
   "cell_type": "code",
   "execution_count": 16,
   "metadata": {},
   "outputs": [
    {
     "data": {
      "text/plain": [
       "array([], dtype=float64)"
      ]
     },
     "execution_count": 16,
     "metadata": {},
     "output_type": "execute_result"
    }
   ],
   "source": [
    "arr2[0:20]"
   ]
  },
  {
   "cell_type": "code",
   "execution_count": 17,
   "metadata": {},
   "outputs": [],
   "source": [
    "## SHuffle the train test split"
   ]
  },
  {
   "cell_type": "code",
   "execution_count": 18,
   "metadata": {},
   "outputs": [
    {
     "data": {
      "text/plain": [
       "(2300, 2)"
      ]
     },
     "execution_count": 18,
     "metadata": {},
     "output_type": "execute_result"
    }
   ],
   "source": [
    "train_df.shape"
   ]
  },
  {
   "cell_type": "code",
   "execution_count": 50,
   "metadata": {},
   "outputs": [],
   "source": [
    "train_df['cosineSimilarity']=arr.tolist()"
   ]
  },
  {
   "cell_type": "code",
   "execution_count": 51,
   "metadata": {},
   "outputs": [
    {
     "data": {
      "text/html": [
       "<div>\n",
       "<style scoped>\n",
       "    .dataframe tbody tr th:only-of-type {\n",
       "        vertical-align: middle;\n",
       "    }\n",
       "\n",
       "    .dataframe tbody tr th {\n",
       "        vertical-align: top;\n",
       "    }\n",
       "\n",
       "    .dataframe thead th {\n",
       "        text-align: right;\n",
       "    }\n",
       "</style>\n",
       "<table border=\"1\" class=\"dataframe\">\n",
       "  <thead>\n",
       "    <tr style=\"text-align: right;\">\n",
       "      <th></th>\n",
       "      <th>text1</th>\n",
       "      <th>text2</th>\n",
       "      <th>cosineSimilarity</th>\n",
       "    </tr>\n",
       "  </thead>\n",
       "  <tbody>\n",
       "    <tr>\n",
       "      <th>0</th>\n",
       "      <td>broadband challenges tv viewing number europea...</td>\n",
       "      <td>gardener wins double glasgow britain jason gar...</td>\n",
       "      <td>0.072456</td>\n",
       "    </tr>\n",
       "    <tr>\n",
       "      <th>1</th>\n",
       "      <td>rap boss arrested drug find rap mogul marion s...</td>\n",
       "      <td>amnesty chief laments war failure lack public ...</td>\n",
       "      <td>0.356662</td>\n",
       "    </tr>\n",
       "    <tr>\n",
       "      <th>2</th>\n",
       "      <td>player burn-out worries robinson england coach...</td>\n",
       "      <td>hanks greeted wintry premiere hollywood star t...</td>\n",
       "      <td>0.157503</td>\n",
       "    </tr>\n",
       "    <tr>\n",
       "      <th>3</th>\n",
       "      <td>hearts oak 3-2 cotonsport hearts oak set ghana...</td>\n",
       "      <td>redford vision sundance despite sporting cordu...</td>\n",
       "      <td>0.236179</td>\n",
       "    </tr>\n",
       "    <tr>\n",
       "      <th>4</th>\n",
       "      <td>sir paul rocks super bowl crowds sir paul mcca...</td>\n",
       "      <td>mauresmo opens victory la amelie mauresmo mari...</td>\n",
       "      <td>0.287220</td>\n",
       "    </tr>\n",
       "    <tr>\n",
       "      <th>...</th>\n",
       "      <td>...</td>\n",
       "      <td>...</td>\n",
       "      <td>...</td>\n",
       "    </tr>\n",
       "    <tr>\n",
       "      <th>2295</th>\n",
       "      <td>wolves appoint hoddle manager glenn hoddle unv...</td>\n",
       "      <td>shares hit ms drug suspension shares elan biog...</td>\n",
       "      <td>0.288460</td>\n",
       "    </tr>\n",
       "    <tr>\n",
       "      <th>2296</th>\n",
       "      <td>stars pay tribute actor davis hollywood stars ...</td>\n",
       "      <td>ethnic producers face barriers minority ethnic...</td>\n",
       "      <td>0.298304</td>\n",
       "    </tr>\n",
       "    <tr>\n",
       "      <th>2297</th>\n",
       "      <td>slow start speedy net services faster broadban...</td>\n",
       "      <td>uk helps raped rwandan women britain give £4m ...</td>\n",
       "      <td>0.124620</td>\n",
       "    </tr>\n",
       "    <tr>\n",
       "      <th>2298</th>\n",
       "      <td>lacroix label bought us firm luxury goods grou...</td>\n",
       "      <td>playstation 3 processor unveiled cell processo...</td>\n",
       "      <td>0.240449</td>\n",
       "    </tr>\n",
       "    <tr>\n",
       "      <th>2299</th>\n",
       "      <td>michael film signals retirement singer george ...</td>\n",
       "      <td>plan give elderly care control elderly disable...</td>\n",
       "      <td>0.271216</td>\n",
       "    </tr>\n",
       "  </tbody>\n",
       "</table>\n",
       "<p>2300 rows × 3 columns</p>\n",
       "</div>"
      ],
      "text/plain": [
       "                                                  text1  \\\n",
       "0     broadband challenges tv viewing number europea...   \n",
       "1     rap boss arrested drug find rap mogul marion s...   \n",
       "2     player burn-out worries robinson england coach...   \n",
       "3     hearts oak 3-2 cotonsport hearts oak set ghana...   \n",
       "4     sir paul rocks super bowl crowds sir paul mcca...   \n",
       "...                                                 ...   \n",
       "2295  wolves appoint hoddle manager glenn hoddle unv...   \n",
       "2296  stars pay tribute actor davis hollywood stars ...   \n",
       "2297  slow start speedy net services faster broadban...   \n",
       "2298  lacroix label bought us firm luxury goods grou...   \n",
       "2299  michael film signals retirement singer george ...   \n",
       "\n",
       "                                                  text2  cosineSimilarity  \n",
       "0     gardener wins double glasgow britain jason gar...          0.072456  \n",
       "1     amnesty chief laments war failure lack public ...          0.356662  \n",
       "2     hanks greeted wintry premiere hollywood star t...          0.157503  \n",
       "3     redford vision sundance despite sporting cordu...          0.236179  \n",
       "4     mauresmo opens victory la amelie mauresmo mari...          0.287220  \n",
       "...                                                 ...               ...  \n",
       "2295  shares hit ms drug suspension shares elan biog...          0.288460  \n",
       "2296  ethnic producers face barriers minority ethnic...          0.298304  \n",
       "2297  uk helps raped rwandan women britain give £4m ...          0.124620  \n",
       "2298  playstation 3 processor unveiled cell processo...          0.240449  \n",
       "2299  plan give elderly care control elderly disable...          0.271216  \n",
       "\n",
       "[2300 rows x 3 columns]"
      ]
     },
     "execution_count": 51,
     "metadata": {},
     "output_type": "execute_result"
    }
   ],
   "source": [
    "train_df"
   ]
  },
  {
   "cell_type": "code",
   "execution_count": 62,
   "metadata": {},
   "outputs": [
    {
     "data": {
      "text/plain": [
       "'slow start speedy net services faster broadband uk becoming reality internet providers offer super-fast services. lucky britons already take advantage uk online 8 megabits per second service launched november 2004. bt retail announced trial speed service national rollout year end. service providers expected follow suit glut new voice video services follow. bandwidth isps buy said jill finger research director analyst firm idc. others watching bt retail trials initially employees later summer customers interest. bt retail said super-fast service could way differentiating players. losing market share could one way gaining back said ms finger. wanadoo set trial 8mbps service summer also plans roll unbundled services - means takes network bt - provide speeds 15mbps. timetable moment. cable firms ntl telewest also bound increase bandwidth time future according ntl spokesman better position bt long term. bt network limited compared cable. services coming stream video demand question 8mbps enough asked.'"
      ]
     },
     "execution_count": 62,
     "metadata": {},
     "output_type": "execute_result"
    }
   ],
   "source": [
    "train_df['text1'][2297]"
   ]
  },
  {
   "cell_type": "code",
   "execution_count": 63,
   "metadata": {},
   "outputs": [
    {
     "data": {
      "text/plain": [
       "'uk helps raped rwandan women britain give £4m grant help women survivors rwandan genocide raped often deliberately infected hiv/aids. estimated 25 000 girls women raped 1994 genocide. 800 000 tutsis moderate hutus killed hutu militias assassination ethnic hutu leader. five-year department international development funding enable survivors access anti-retroviral treatment. plight infected women overshadowed long time. overshadowed rwanda emergence 100 days slaughter time mass killings took place women fate largely taboo subject. many women widowed children care many cases orphans too. women die number rwanda orphans rises. recently women access anti-retroviral treatment. starting change. funding intended make anti-retrovirals care available 2 500 women. mary kayitesi blewitt founder survivors fund (surf) one organisations funds channelled said recognition late survivors priority help.'"
      ]
     },
     "execution_count": 63,
     "metadata": {},
     "output_type": "execute_result"
    }
   ],
   "source": [
    "train_df['text2'][2297]"
   ]
  },
  {
   "cell_type": "code",
   "execution_count": 52,
   "metadata": {},
   "outputs": [
    {
     "data": {
      "text/html": [
       "<div>\n",
       "<style scoped>\n",
       "    .dataframe tbody tr th:only-of-type {\n",
       "        vertical-align: middle;\n",
       "    }\n",
       "\n",
       "    .dataframe tbody tr th {\n",
       "        vertical-align: top;\n",
       "    }\n",
       "\n",
       "    .dataframe thead th {\n",
       "        text-align: right;\n",
       "    }\n",
       "</style>\n",
       "<table border=\"1\" class=\"dataframe\">\n",
       "  <thead>\n",
       "    <tr style=\"text-align: right;\">\n",
       "      <th></th>\n",
       "      <th>text1</th>\n",
       "      <th>text2</th>\n",
       "      <th>cosineSimilarity</th>\n",
       "    </tr>\n",
       "  </thead>\n",
       "  <tbody>\n",
       "    <tr>\n",
       "      <th>83</th>\n",
       "      <td>kennedy looks election gains may know quite de...</td>\n",
       "      <td>howard rejects bnp claim tory leader michael h...</td>\n",
       "      <td>0.606928</td>\n",
       "    </tr>\n",
       "    <tr>\n",
       "      <th>139</th>\n",
       "      <td>fit-again betsen france squad france brought f...</td>\n",
       "      <td>england 17-18 france england suffered eighth d...</td>\n",
       "      <td>0.610524</td>\n",
       "    </tr>\n",
       "    <tr>\n",
       "      <th>152</th>\n",
       "      <td>moody joins england lewis moody flown dublin j...</td>\n",
       "      <td>harinordoquy suffers france axe number eight i...</td>\n",
       "      <td>0.687409</td>\n",
       "    </tr>\n",
       "    <tr>\n",
       "      <th>226</th>\n",
       "      <td>us adds jobs expected us economy added 337 000...</td>\n",
       "      <td>consumer spending lifts us growth us economic ...</td>\n",
       "      <td>0.649653</td>\n",
       "    </tr>\n",
       "    <tr>\n",
       "      <th>251</th>\n",
       "      <td>economy strong election year uk businesses set...</td>\n",
       "      <td>bank opts leave rates hold bank england left i...</td>\n",
       "      <td>0.667320</td>\n",
       "    </tr>\n",
       "    <tr>\n",
       "      <th>267</th>\n",
       "      <td>taylor poised scotland return simon taylor nam...</td>\n",
       "      <td>irish finish home game republic ireland manage...</td>\n",
       "      <td>0.645870</td>\n",
       "    </tr>\n",
       "    <tr>\n",
       "      <th>365</th>\n",
       "      <td>lennon brands rangers favourites celtic neil l...</td>\n",
       "      <td>bortolami predicts dour contest italy skipper ...</td>\n",
       "      <td>0.653276</td>\n",
       "    </tr>\n",
       "    <tr>\n",
       "      <th>601</th>\n",
       "      <td>day-lewis set berlin honour actor daniel day-l...</td>\n",
       "      <td>tautou film tops cesar prize nods french film ...</td>\n",
       "      <td>0.731497</td>\n",
       "    </tr>\n",
       "    <tr>\n",
       "      <th>625</th>\n",
       "      <td>aviator wins top globes accolades aviator name...</td>\n",
       "      <td>berlin celebrates european cinema organisers s...</td>\n",
       "      <td>0.600842</td>\n",
       "    </tr>\n",
       "    <tr>\n",
       "      <th>690</th>\n",
       "      <td>virgin blue shares plummet 20% shares australi...</td>\n",
       "      <td>nortel $300m profit revision telecoms equipmen...</td>\n",
       "      <td>0.646561</td>\n",
       "    </tr>\n",
       "    <tr>\n",
       "      <th>760</th>\n",
       "      <td>us manufacturing expands us industrial product...</td>\n",
       "      <td>latin america sees strong growth latin america...</td>\n",
       "      <td>0.634359</td>\n",
       "    </tr>\n",
       "    <tr>\n",
       "      <th>830</th>\n",
       "      <td>beckham virus spotted net virus writers tradin...</td>\n",
       "      <td>windows worm travels tetris users warned windo...</td>\n",
       "      <td>0.736045</td>\n",
       "    </tr>\n",
       "    <tr>\n",
       "      <th>1023</th>\n",
       "      <td>egypt sell state-owned bank egyptian governmen...</td>\n",
       "      <td>ukraine revisits state sell-offs ukraine prepa...</td>\n",
       "      <td>0.652430</td>\n",
       "    </tr>\n",
       "    <tr>\n",
       "      <th>1431</th>\n",
       "      <td>pountney handed ban fine northampton coach bud...</td>\n",
       "      <td>old firm pair handed suspensions celtic henri ...</td>\n",
       "      <td>0.766695</td>\n",
       "    </tr>\n",
       "    <tr>\n",
       "      <th>1484</th>\n",
       "      <td>u2 desire number one u2 three prestigious gram...</td>\n",
       "      <td>cult band kasabian surge forward indie dance b...</td>\n",
       "      <td>0.641524</td>\n",
       "    </tr>\n",
       "    <tr>\n",
       "      <th>1523</th>\n",
       "      <td>sluggish economy hits german jobs number peopl...</td>\n",
       "      <td>ecb holds rates amid growth fears european cen...</td>\n",
       "      <td>0.702867</td>\n",
       "    </tr>\n",
       "    <tr>\n",
       "      <th>1555</th>\n",
       "      <td>critics back aviator oscars martin scorsese av...</td>\n",
       "      <td>director nair vanity project indian film direc...</td>\n",
       "      <td>0.608748</td>\n",
       "    </tr>\n",
       "    <tr>\n",
       "      <th>1918</th>\n",
       "      <td>cudicini misses carling cup final chelsea goal...</td>\n",
       "      <td>moyes u-turn beattie dismissal everton manager...</td>\n",
       "      <td>0.671812</td>\n",
       "    </tr>\n",
       "    <tr>\n",
       "      <th>2092</th>\n",
       "      <td>fresh hope argentine crisis three years argent...</td>\n",
       "      <td>palestinian economy decline despite short-live...</td>\n",
       "      <td>0.718658</td>\n",
       "    </tr>\n",
       "    <tr>\n",
       "      <th>2113</th>\n",
       "      <td>tsunami cost sri lanka $1.3bn sri lanka faces ...</td>\n",
       "      <td>asia quake increases poverty risk nearly two m...</td>\n",
       "      <td>0.748747</td>\n",
       "    </tr>\n",
       "  </tbody>\n",
       "</table>\n",
       "</div>"
      ],
      "text/plain": [
       "                                                  text1  \\\n",
       "83    kennedy looks election gains may know quite de...   \n",
       "139   fit-again betsen france squad france brought f...   \n",
       "152   moody joins england lewis moody flown dublin j...   \n",
       "226   us adds jobs expected us economy added 337 000...   \n",
       "251   economy strong election year uk businesses set...   \n",
       "267   taylor poised scotland return simon taylor nam...   \n",
       "365   lennon brands rangers favourites celtic neil l...   \n",
       "601   day-lewis set berlin honour actor daniel day-l...   \n",
       "625   aviator wins top globes accolades aviator name...   \n",
       "690   virgin blue shares plummet 20% shares australi...   \n",
       "760   us manufacturing expands us industrial product...   \n",
       "830   beckham virus spotted net virus writers tradin...   \n",
       "1023  egypt sell state-owned bank egyptian governmen...   \n",
       "1431  pountney handed ban fine northampton coach bud...   \n",
       "1484  u2 desire number one u2 three prestigious gram...   \n",
       "1523  sluggish economy hits german jobs number peopl...   \n",
       "1555  critics back aviator oscars martin scorsese av...   \n",
       "1918  cudicini misses carling cup final chelsea goal...   \n",
       "2092  fresh hope argentine crisis three years argent...   \n",
       "2113  tsunami cost sri lanka $1.3bn sri lanka faces ...   \n",
       "\n",
       "                                                  text2  cosineSimilarity  \n",
       "83    howard rejects bnp claim tory leader michael h...          0.606928  \n",
       "139   england 17-18 france england suffered eighth d...          0.610524  \n",
       "152   harinordoquy suffers france axe number eight i...          0.687409  \n",
       "226   consumer spending lifts us growth us economic ...          0.649653  \n",
       "251   bank opts leave rates hold bank england left i...          0.667320  \n",
       "267   irish finish home game republic ireland manage...          0.645870  \n",
       "365   bortolami predicts dour contest italy skipper ...          0.653276  \n",
       "601   tautou film tops cesar prize nods french film ...          0.731497  \n",
       "625   berlin celebrates european cinema organisers s...          0.600842  \n",
       "690   nortel $300m profit revision telecoms equipmen...          0.646561  \n",
       "760   latin america sees strong growth latin america...          0.634359  \n",
       "830   windows worm travels tetris users warned windo...          0.736045  \n",
       "1023  ukraine revisits state sell-offs ukraine prepa...          0.652430  \n",
       "1431  old firm pair handed suspensions celtic henri ...          0.766695  \n",
       "1484  cult band kasabian surge forward indie dance b...          0.641524  \n",
       "1523  ecb holds rates amid growth fears european cen...          0.702867  \n",
       "1555  director nair vanity project indian film direc...          0.608748  \n",
       "1918  moyes u-turn beattie dismissal everton manager...          0.671812  \n",
       "2092  palestinian economy decline despite short-live...          0.718658  \n",
       "2113  asia quake increases poverty risk nearly two m...          0.748747  "
      ]
     },
     "execution_count": 52,
     "metadata": {},
     "output_type": "execute_result"
    }
   ],
   "source": [
    "train_df[train_df['cosineSimilarity']>0.6]"
   ]
  },
  {
   "cell_type": "code",
   "execution_count": 53,
   "metadata": {},
   "outputs": [
    {
     "data": {
      "text/plain": [
       "'tsunami cost sri lanka $1.3bn sri lanka faces $1.3bn (£691m) bill 2005 reconstruction tsunami killed 30 000 people central bank says. estimate preliminary bank governor sunil mendis told reporters could rise 2006. island state asking $320m international monetary fund help pay relief said. bank 5bn rupees ($50m; £27m) set aside lend lower interest rate lost property. according mr mendis half imf support could come freeze debt repayments would free resources immediately. rest could come five-year emergency loan. sri lanka hoping wider freeze creditors. paris club 19 creditors meets 12 january discuss debt moratorium nations hit tsunami ravaged south east asia 26 december. 150 000 people across region feared dead millions left homeless destitute. full reckoning economic cost sri lanka tsunami clear time come. already looks likely growth first half 2005 slow mr mendis told reporters although would say much. one side-effect disaster value rupee risen foreign funds flooded country. currency strengthened 4% since late december coming close 100 rupees us dollar first time six months.'"
      ]
     },
     "execution_count": 53,
     "metadata": {},
     "output_type": "execute_result"
    }
   ],
   "source": [
    "train_df['text1'][2113]"
   ]
  },
  {
   "cell_type": "code",
   "execution_count": 54,
   "metadata": {},
   "outputs": [],
   "source": [
    "test_df['cosineSimilarity']=arr1.tolist()"
   ]
  },
  {
   "cell_type": "code",
   "execution_count": 55,
   "metadata": {},
   "outputs": [],
   "source": [
    "valid_df['cosineSimilarity']=arr2.tolist()"
   ]
  },
  {
   "cell_type": "code",
   "execution_count": 56,
   "metadata": {},
   "outputs": [
    {
     "data": {
      "text/html": [
       "<div>\n",
       "<style scoped>\n",
       "    .dataframe tbody tr th:only-of-type {\n",
       "        vertical-align: middle;\n",
       "    }\n",
       "\n",
       "    .dataframe tbody tr th {\n",
       "        vertical-align: top;\n",
       "    }\n",
       "\n",
       "    .dataframe thead th {\n",
       "        text-align: right;\n",
       "    }\n",
       "</style>\n",
       "<table border=\"1\" class=\"dataframe\">\n",
       "  <thead>\n",
       "    <tr style=\"text-align: right;\">\n",
       "      <th></th>\n",
       "      <th>text1</th>\n",
       "      <th>text2</th>\n",
       "      <th>cosineSimilarity</th>\n",
       "    </tr>\n",
       "  </thead>\n",
       "  <tbody>\n",
       "    <tr>\n",
       "      <th>2304</th>\n",
       "      <td>spurs sign iceland u21 star tottenham primed s...</td>\n",
       "      <td>spurs sign iceland u21 star tottenham primed s...</td>\n",
       "      <td>1.0</td>\n",
       "    </tr>\n",
       "  </tbody>\n",
       "</table>\n",
       "</div>"
      ],
      "text/plain": [
       "                                                  text1  \\\n",
       "2304  spurs sign iceland u21 star tottenham primed s...   \n",
       "\n",
       "                                                  text2  cosineSimilarity  \n",
       "2304  spurs sign iceland u21 star tottenham primed s...               1.0  "
      ]
     },
     "execution_count": 56,
     "metadata": {},
     "output_type": "execute_result"
    }
   ],
   "source": [
    "valid_df[valid_df['cosineSimilarity']>0.6]"
   ]
  },
  {
   "cell_type": "code",
   "execution_count": 57,
   "metadata": {},
   "outputs": [
    {
     "data": {
      "text/html": [
       "<div>\n",
       "<style scoped>\n",
       "    .dataframe tbody tr th:only-of-type {\n",
       "        vertical-align: middle;\n",
       "    }\n",
       "\n",
       "    .dataframe tbody tr th {\n",
       "        vertical-align: top;\n",
       "    }\n",
       "\n",
       "    .dataframe thead th {\n",
       "        text-align: right;\n",
       "    }\n",
       "</style>\n",
       "<table border=\"1\" class=\"dataframe\">\n",
       "  <thead>\n",
       "    <tr style=\"text-align: right;\">\n",
       "      <th></th>\n",
       "      <th>text1</th>\n",
       "      <th>text2</th>\n",
       "      <th>cosineSimilarity</th>\n",
       "    </tr>\n",
       "  </thead>\n",
       "  <tbody>\n",
       "    <tr>\n",
       "      <th>2720</th>\n",
       "      <td>ferguson fears milan cutting edge manchester u...</td>\n",
       "      <td>iranian misses israel match iranian striker va...</td>\n",
       "      <td>0.619000</td>\n",
       "    </tr>\n",
       "    <tr>\n",
       "      <th>2751</th>\n",
       "      <td>parmalat boasts doubled profits parmalat itali...</td>\n",
       "      <td>umbro profits lifted euro 2004 uk sportswear f...</td>\n",
       "      <td>0.618543</td>\n",
       "    </tr>\n",
       "    <tr>\n",
       "      <th>2820</th>\n",
       "      <td>banker loses sexism claim former executive lon...</td>\n",
       "      <td>banker loses sexism claim former executive lon...</td>\n",
       "      <td>1.000000</td>\n",
       "    </tr>\n",
       "    <tr>\n",
       "      <th>2946</th>\n",
       "      <td>uk economy ends year spurt uk economy grew est...</td>\n",
       "      <td>consumers drive french economy france economic...</td>\n",
       "      <td>0.865136</td>\n",
       "    </tr>\n",
       "  </tbody>\n",
       "</table>\n",
       "</div>"
      ],
      "text/plain": [
       "                                                  text1  \\\n",
       "2720  ferguson fears milan cutting edge manchester u...   \n",
       "2751  parmalat boasts doubled profits parmalat itali...   \n",
       "2820  banker loses sexism claim former executive lon...   \n",
       "2946  uk economy ends year spurt uk economy grew est...   \n",
       "\n",
       "                                                  text2  cosineSimilarity  \n",
       "2720  iranian misses israel match iranian striker va...          0.619000  \n",
       "2751  umbro profits lifted euro 2004 uk sportswear f...          0.618543  \n",
       "2820  banker loses sexism claim former executive lon...          1.000000  \n",
       "2946  consumers drive french economy france economic...          0.865136  "
      ]
     },
     "execution_count": 57,
     "metadata": {},
     "output_type": "execute_result"
    }
   ],
   "source": [
    "test_df[test_df['cosineSimilarity']>0.6]"
   ]
  },
  {
   "cell_type": "code",
   "execution_count": 58,
   "metadata": {},
   "outputs": [
    {
     "data": {
      "text/plain": [
       "'banker loses sexism claim former executive london offices merrill lynch lost £7.5m ($14.6m) sex discrimination case us investment bank. employment tribunal dismissed stephanie villalba allegations sexual discrimination unequal pay. 42-year-old claim unfair dismissal resulting sacking august 2003. partial victory likely cap compensation £55 000 tiny fraction asked for. extent damages assessed new year. action - biggest claim heard employment tribunal uk - viewed something test case. tribunal decided ms villalba unfairly dismissed removed senior post entitled wait see suitable alternative position could found organisation. ms villalba former head merrill private client business europe made decision whether appeal. spokesman lawyers described decision disappointing pointed criticism merrill procedures within lengthy judgement. tribunal upheld ms villalba claim victimisation certain specific issues including bullying e-mails connection contract said found evidence laddish culture bank. said start case performance gender merrill said statement. ms villalba removed person promoted position replaced another woman. merrill lynch dedicated creating true meritocracy every employee opportunity advance based skills hard work. based london financial district ms villalba worked merrill global private client business europe investing funds merrill important customers. 2003 employers told future 17 years company made redundant. merrill lynch denied ms villalba claims said removed post extensive losses firm suffering continent. firm told tribunal ms villalba division losing $1m week. merrill said ms villalba lacked leadership skills turn around unit.'"
      ]
     },
     "execution_count": 58,
     "metadata": {},
     "output_type": "execute_result"
    }
   ],
   "source": [
    "test_df['text1'][2820]"
   ]
  },
  {
   "cell_type": "code",
   "execution_count": null,
   "metadata": {},
   "outputs": [],
   "source": [
    "test_df['text1'][2720]"
   ]
  },
  {
   "cell_type": "code",
   "execution_count": 59,
   "metadata": {},
   "outputs": [],
   "source": [
    "train_df.to_csv('train_split.csv', index=False)\n",
    "test_df.to_csv('test_split.csv', index=False)\n",
    "valid_df.to_csv('valid_split.csv', index=False)"
   ]
  },
  {
   "cell_type": "code",
   "execution_count": 227,
   "metadata": {},
   "outputs": [],
   "source": [
    "import torch"
   ]
  },
  {
   "cell_type": "code",
   "execution_count": 228,
   "metadata": {},
   "outputs": [
    {
     "name": "stdout",
     "output_type": "stream",
     "text": [
      "cuda\n"
     ]
    },
    {
     "data": {
      "text/plain": [
       "SentenceTransformer(\n",
       "  (0): Transformer({'max_seq_length': 256, 'do_lower_case': False}) with Transformer model: BertModel \n",
       "  (1): Pooling({'word_embedding_dimension': 384, 'pooling_mode_cls_token': False, 'pooling_mode_mean_tokens': True, 'pooling_mode_max_tokens': False, 'pooling_mode_mean_sqrt_len_tokens': False})\n",
       "  (2): Normalize()\n",
       ")"
      ]
     },
     "execution_count": 228,
     "metadata": {},
     "output_type": "execute_result"
    }
   ],
   "source": [
    "device = torch.device('cuda' if torch.cuda.is_available() else 'cpu')\n",
    "print(device)\n",
    "model.to(device)"
   ]
  },
  {
   "cell_type": "code",
   "execution_count": 229,
   "metadata": {},
   "outputs": [],
   "source": [
    "torch.cuda.empty_cache()"
   ]
  },
  {
   "cell_type": "code",
   "execution_count": null,
   "metadata": {},
   "outputs": [],
   "source": []
  },
  {
   "cell_type": "code",
   "execution_count": null,
   "metadata": {},
   "outputs": [],
   "source": []
  },
  {
   "cell_type": "code",
   "execution_count": null,
   "metadata": {},
   "outputs": [],
   "source": []
  }
 ],
 "metadata": {
  "kernelspec": {
   "display_name": "base",
   "language": "python",
   "name": "python3"
  },
  "language_info": {
   "codemirror_mode": {
    "name": "ipython",
    "version": 3
   },
   "file_extension": ".py",
   "mimetype": "text/x-python",
   "name": "python",
   "nbconvert_exporter": "python",
   "pygments_lexer": "ipython3",
   "version": "3.10.9"
  },
  "orig_nbformat": 4
 },
 "nbformat": 4,
 "nbformat_minor": 2
}
